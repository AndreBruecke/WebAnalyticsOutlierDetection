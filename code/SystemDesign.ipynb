{
 "cells": [
  {
   "cell_type": "code",
   "execution_count": 1,
   "metadata": {},
   "outputs": [
    {
     "name": "stdout",
     "output_type": "stream",
     "text": [
      "Requirement already satisfied: pyod in c:\\users\\andre\\anaconda3\\lib\\site-packages (0.7.7.1)\n",
      "Requirement already satisfied: six in c:\\users\\andre\\anaconda3\\lib\\site-packages (from pyod) (1.12.0)\n",
      "Requirement already satisfied: combo in c:\\users\\andre\\anaconda3\\lib\\site-packages (from pyod) (0.1.0)\n",
      "Requirement already satisfied: joblib in c:\\users\\andre\\anaconda3\\lib\\site-packages (from pyod) (0.14.1)\n",
      "Requirement already satisfied: scikit-learn>=0.19.1 in c:\\users\\andre\\anaconda3\\lib\\site-packages (from pyod) (0.20.1)\n",
      "Requirement already satisfied: numba>=0.35 in c:\\users\\andre\\anaconda3\\lib\\site-packages (from pyod) (0.41.0)\n",
      "Requirement already satisfied: matplotlib in c:\\users\\andre\\anaconda3\\lib\\site-packages (from pyod) (3.0.2)\n",
      "Requirement already satisfied: scipy>=0.19.1 in c:\\users\\andre\\anaconda3\\lib\\site-packages (from pyod) (1.1.0)\n",
      "Requirement already satisfied: numpy>=1.13 in c:\\users\\andre\\anaconda3\\lib\\site-packages (from pyod) (1.15.4)\n",
      "Requirement already satisfied: suod in c:\\users\\andre\\anaconda3\\lib\\site-packages (from pyod) (0.0.3)\n",
      "Requirement already satisfied: llvmlite>=0.26.0dev0 in c:\\users\\andre\\anaconda3\\lib\\site-packages (from numba>=0.35->pyod) (0.26.0)\n",
      "Requirement already satisfied: cycler>=0.10 in c:\\users\\andre\\anaconda3\\lib\\site-packages (from matplotlib->pyod) (0.10.0)\n",
      "Requirement already satisfied: kiwisolver>=1.0.1 in c:\\users\\andre\\anaconda3\\lib\\site-packages (from matplotlib->pyod) (1.0.1)\n",
      "Requirement already satisfied: pyparsing!=2.0.4,!=2.1.2,!=2.1.6,>=2.0.1 in c:\\users\\andre\\anaconda3\\lib\\site-packages (from matplotlib->pyod) (2.3.0)\n",
      "Requirement already satisfied: python-dateutil>=2.1 in c:\\users\\andre\\anaconda3\\lib\\site-packages (from matplotlib->pyod) (2.7.5)\n",
      "Requirement already satisfied: setuptools in c:\\users\\andre\\anaconda3\\lib\\site-packages (from kiwisolver>=1.0.1->matplotlib->pyod) (40.6.3)\n"
     ]
    }
   ],
   "source": [
    "!pip install pyod"
   ]
  },
  {
   "cell_type": "markdown",
   "metadata": {
    "colab_type": "text",
    "id": "WbhIlvHzv6MZ"
   },
   "source": [
    "# Experimente zur Entwicklung eines Konzepts"
   ]
  },
  {
   "cell_type": "code",
   "execution_count": 2,
   "metadata": {
    "colab": {},
    "colab_type": "code",
    "id": "Y6_3OYs9nJNL"
   },
   "outputs": [],
   "source": [
    "import pandas as pd\n",
    "import numpy as np\n",
    "import matplotlib.pyplot as plt\n",
    "from pyod.models.hbos import HBOS\n",
    "from pyod.models.knn import KNN\n",
    "from pyod.models.lof import LOF\n",
    "\n",
    "import pyod_experiments as exp\n",
    "\n",
    "%matplotlib inline"
   ]
  },
  {
   "cell_type": "markdown",
   "metadata": {
    "colab_type": "text",
    "id": "_qmqelUxkU2p"
   },
   "source": [
    "## Laden der Datensätze"
   ]
  },
  {
   "cell_type": "code",
   "execution_count": 3,
   "metadata": {
    "colab": {},
    "colab_type": "code",
    "id": "0-CFu8ONoEId"
   },
   "outputs": [],
   "source": [
    "owa = pd.read_csv(\"../data/owa_dataset.csv\")\n",
    "owa[[\"hits\", \"visitors\", \"mean\"]] = owa[[\"hits\", \"visitors\", \"mean\"]].astype(float)\n",
    "syn1 = pd.read_csv(\"../data/syn_datasets/syn1_dataset.csv\")\n",
    "syn2 = pd.read_csv(\"../data/syn_datasets/syn2_dataset.csv\")\n",
    "\n",
    "datasets = {\n",
    "  \"OWA\": owa, \n",
    "  \"SYN-1\": syn1,\n",
    "  \"SYN-2\": syn2\n",
    "}"
   ]
  },
  {
   "cell_type": "markdown",
   "metadata": {
    "colab_type": "text",
    "id": "QSiGdSUv5dAG"
   },
   "source": [
    "## Wahl der Feature-Kombinationen"
   ]
  },
  {
   "cell_type": "code",
   "execution_count": 4,
   "metadata": {
    "colab": {},
    "colab_type": "code",
    "id": "W5tOrToh6TD2"
   },
   "outputs": [],
   "source": [
    "featureNames = [\"h\", \"hv\", \"hm\", \"hvm\"]\n",
    "featureCombinations = [\n",
    "  [\"hits\"], [\"hits\", \"visitors\"], [\"hits\", \"mean\"], [\"hits\", \"visitors\", \"mean\"]\n",
    "]"
   ]
  },
  {
   "cell_type": "markdown",
   "metadata": {
    "colab_type": "text",
    "id": "yADiaLhF5lsU"
   },
   "source": [
    "### k-NN"
   ]
  },
  {
   "cell_type": "code",
   "execution_count": 5,
   "metadata": {
    "colab": {
     "base_uri": "https://localhost:8080/",
     "height": 333
    },
    "colab_type": "code",
    "id": "VqKnunPAIEEy",
    "outputId": "f685fe0b-7c1c-48be-dc54-c5759a3f0aad"
   },
   "outputs": [
    {
     "name": "stdout",
     "output_type": "stream",
     "text": [
      "||||\n",
      "\n"
     ]
    },
    {
     "data": {
      "image/png": "[encoded data removed]",
      "text/plain": [
       "<Figure size 684x288 with 2 Axes>"
      ]
     },
     "metadata": {
      "needs_background": "light"
     },
     "output_type": "display_data"
    }
   ],
   "source": [
    "resKNN = pd.DataFrame()\n",
    "resKNN2 = pd.DataFrame()\n",
    "\n",
    "j = 0\n",
    "for features in featureCombinations:\n",
    "  print(\"|\", end=\"\")\n",
    "  res = exp.runVariableConfiguration(owa, features, owa[\"anomalyClass\"].tolist(), KNN, { \"n_neighbors\": 5 }, \"n_neighbors\", 5, 160 - 5, 160 - 10, \"int\")\n",
    "  resKNN[\"owa_\" + featureNames[j]] = res[\"avg_precision\"]\n",
    "\n",
    "  res2 = exp.runVariableCategoricalConfiguration(owa, features, owa[\"anomalyClass\"].tolist(), KNN, { \"method\": \"largest\" }, \"method\", [\"largest\", \"mean\", \"median\"])\n",
    "  resKNN2[\"owa_\" + featureNames[j]] = res2[\"avg_precision\"]\n",
    "  j += 1\n",
    "print(\"\\n\")\n",
    "\n",
    "fig, axes = plt.subplots(nrows=1, ncols=2, sharey=True)\n",
    "fig.set_size_inches(9.5,4)\n",
    "\n",
    "resKNN = resKNN.rename(columns={\"owa_h\" : \"A\", \"owa_hv\": \"A, B\", \"owa_hm\": \"A, D\", \"owa_hvm\": \"A, B, D\"})\n",
    "ax = resKNN.boxplot(column=[\"A\", \"A, B\", \"A, D\", \"A, B, D\"], ax=axes[0])\n",
    "ax.set_title(\"n_neighbors\", fontsize=14)\n",
    "ax.set_xlabel(\"Feature-Kombinationen\", fontsize=12)\n",
    "ax.set_ylabel(\"Average Precision\", fontsize=12)\n",
    "ax.set_ylim((0, 1))\n",
    "\n",
    "resKNN2 = resKNN2.rename(columns={\"owa_h\" : \"A\", \"owa_hv\": \"A, B\", \"owa_hm\": \"A, D\", \"owa_hvm\": \"A, B, D\"})\n",
    "ax2 = resKNN2.boxplot(column=[\"A\", \"A, B\", \"A, D\", \"A, B, D\"], ax=axes[1])\n",
    "ax2.set_title(\"method\", fontsize=14)\n",
    "ax2.set_xlabel(\"Feature-Kombinationen\", fontsize=12)\n",
    "ax2.set_ylim((0, 1))\n",
    "plt.show()"
   ]
  },
  {
   "cell_type": "markdown",
   "metadata": {
    "colab_type": "text",
    "id": "RdGzNYKZ5_Ym"
   },
   "source": [
    "### LOF"
   ]
  },
  {
   "cell_type": "code",
   "execution_count": 6,
   "metadata": {
    "colab": {
     "base_uri": "https://localhost:8080/",
     "height": 320
    },
    "colab_type": "code",
    "id": "EcHd9d6PIRWY",
    "outputId": "2b49192b-599f-4c67-9be6-8ac3b3c389fa"
   },
   "outputs": [
    {
     "name": "stdout",
     "output_type": "stream",
     "text": [
      "||||\n",
      "\n"
     ]
    },
    {
     "data": {
      "image/png": "[encoded data removed]",
      "text/plain": [
       "<Figure size 360x288 with 1 Axes>"
      ]
     },
     "metadata": {
      "needs_background": "light"
     },
     "output_type": "display_data"
    }
   ],
   "source": [
    "resLOF = pd.DataFrame()\n",
    "\n",
    "j = 0\n",
    "for features in featureCombinations:\n",
    "  print(\"|\", end=\"\")\n",
    "  res = exp.runVariableConfiguration(owa, features, owa[\"anomalyClass\"].tolist(), LOF, { \"n_neighbors\": 5 }, \"n_neighbors\", 10, 160, 160 - 10, \"int\")\n",
    "  resLOF[\"owa_\" + featureNames[j]] = res[\"avg_precision\"]\n",
    "  j += 1\n",
    "print(\"\\n\")\n",
    "\n",
    "resLOF = resLOF.rename(columns={\"owa_h\" : \"A\", \"owa_hv\": \"A, B\", \"owa_hm\": \"A, D\", \"owa_hvm\": \"A, B, D\"})\n",
    "ax = resLOF.boxplot(column=[\"A\", \"A, B\", \"A, D\", \"A, B, D\"], figsize=(5, 4))\n",
    "ax.set_xlabel(\"Feature-Kombinationen\", fontsize=12)\n",
    "ax.set_ylabel(\"Average Precision\", fontsize=12)\n",
    "ax.set_ylim((0, 1))\n",
    "plt.show()"
   ]
  },
  {
   "cell_type": "markdown",
   "metadata": {
    "colab_type": "text",
    "id": "71jykDt45ftK"
   },
   "source": [
    "### HBOS"
   ]
  },
  {
   "cell_type": "code",
   "execution_count": 7,
   "metadata": {
    "colab": {
     "base_uri": "https://localhost:8080/",
     "height": 320
    },
    "colab_type": "code",
    "id": "CkcTBW3gCTwF",
    "outputId": "d70c4bf3-8bf2-4f12-90b8-a95d98b5ab6e"
   },
   "outputs": [
    {
     "name": "stdout",
     "output_type": "stream",
     "text": [
      "||||\n",
      "\n"
     ]
    },
    {
     "data": {
      "image/png": "[encoded data removed]",
      "text/plain": [
       "<Figure size 360x288 with 1 Axes>"
      ]
     },
     "metadata": {
      "needs_background": "light"
     },
     "output_type": "display_data"
    }
   ],
   "source": [
    "resHBOS = pd.DataFrame()\n",
    "\n",
    "j = 0\n",
    "for features in featureCombinations:\n",
    "  print(\"|\", end=\"\")\n",
    "  res = exp.runVariableConfiguration(owa, features, owa[\"anomalyClass\"].tolist(), HBOS, { \"n_bins\": 10 }, \"n_bins\", 10, 160, 160 - 10, \"int\")\n",
    "  resHBOS[\"owa_\" + featureNames[j]] = res[\"avg_precision\"]\n",
    "  j += 1\n",
    "print(\"\\n\")\n",
    "\n",
    "resHBOS = resHBOS.rename(columns={\"owa_h\" : \"A\", \"owa_hv\": \"A, B\", \"owa_hm\": \"A, D\", \"owa_hvm\": \"A, B, D\"})\n",
    "ax = resHBOS.boxplot(column=[\"A\", \"A, B\", \"A, D\", \"A, B, D\"], figsize=(5, 4))\n",
    "ax.set_xlabel(\"Feature-Kombinationen\", fontsize=12)\n",
    "ax.set_ylabel(\"Average Precision\", fontsize=12)\n",
    "ax.set_ylim((0, 1))\n",
    "plt.show()"
   ]
  },
  {
   "cell_type": "markdown",
   "metadata": {
    "colab_type": "text",
    "id": "39yrNZgc-wnO"
   },
   "source": [
    "## Konfiguration der Eingabeparameter"
   ]
  },
  {
   "cell_type": "markdown",
   "metadata": {
    "colab_type": "text",
    "id": "L8fIxx-u-6We"
   },
   "source": [
    "### k-NN"
   ]
  },
  {
   "cell_type": "code",
   "execution_count": 8,
   "metadata": {
    "colab": {
     "base_uri": "https://localhost:8080/",
     "height": 316
    },
    "colab_type": "code",
    "id": "L4cCnaWu-2Ak",
    "outputId": "e1962b94-0924-4bf4-c77d-4735f9be5195"
   },
   "outputs": [
    {
     "name": "stdout",
     "output_type": "stream",
     "text": [
      "|||"
     ]
    },
    {
     "data": {
      "image/png": "[encoded data removed]",
      "text/plain": [
       "<Figure size 432x288 with 1 Axes>"
      ]
     },
     "metadata": {
      "needs_background": "light"
     },
     "output_type": "display_data"
    }
   ],
   "source": [
    "resKNN3 = pd.DataFrame()\n",
    "\n",
    "methods = [\"largest\", \"mean\", \"median\"]\n",
    "\n",
    "for method in methods:\n",
    "  print(\"|\", end=\"\")\n",
    "  resX = exp.runVariableConfiguration(owa, [\"hits\"], owa[\"anomalyClass\"].tolist(), KNN, { \"n_neighbors\": 5, \"method\": method }, \"n_neighbors\", 5, 160 - 5, 160 - 10, \"int\")\n",
    "  resKNN3[method] = resX[\"avg_precision\"]\n",
    "\n",
    "ax = resKNN3.boxplot(column=[\"largest\", \"mean\", \"median\"], figsize=(6, 4))\n",
    "ax.set_title(\"Average Precision von k-NN für verschiedene Methoden\", fontsize=14)\n",
    "ax.set_xlabel(\"Methoden\", fontsize=12)\n",
    "ax.set_ylabel(\"Average Precision\", fontsize=12)\n",
    "\n",
    "ax.set_ylim(0.6, 1.0) \n",
    "ax.xaxis.tick_top()\n",
    "ax.spines['bottom'].set_visible(False)\n",
    "ax.tick_params(labeltop=False)\n",
    "\n",
    "plt.show()"
   ]
  },
  {
   "cell_type": "markdown",
   "metadata": {
    "colab_type": "text",
    "id": "mVY2wPxdAihS"
   },
   "source": [
    "### Maximale Average Precision"
   ]
  },
  {
   "cell_type": "code",
   "execution_count": 9,
   "metadata": {
    "colab": {
     "base_uri": "https://localhost:8080/",
     "height": 68
    },
    "colab_type": "code",
    "id": "MgJeIXWbAyQg",
    "outputId": "756cc89b-76fb-4c23-ecb6-9d44344ecd23"
   },
   "outputs": [
    {
     "name": "stdout",
     "output_type": "stream",
     "text": [
      "Maximum k-NN: 0.8196 at n_neighbors = 75\n",
      "Maximum LOF:  0.8685 at n_neighbors = 75\n",
      "Maximum HBOS: 0.815  at n_bins = 142\n"
     ]
    }
   ],
   "source": [
    "print(\"Maximum k-NN:\", round(resKNN3[\"median\"].max(), 4), \"at n_neighbors =\", resKNN3[\"median\"].idxmax())\n",
    "print(\"Maximum LOF: \", round(resLOF[\"A\"].max(), 4), \"at n_neighbors =\", resLOF[\"A\"].idxmax())\n",
    "print(\"Maximum HBOS:\", round(resHBOS[\"A, D\"].max(), 4), \" at n_bins =\", resHBOS[\"A, D\"].idxmax())"
   ]
  },
  {
   "cell_type": "markdown",
   "metadata": {
    "colab_type": "text",
    "id": "EqXVEPA5CxpA"
   },
   "source": [
    "## Wahl des Algorithmus"
   ]
  },
  {
   "cell_type": "markdown",
   "metadata": {
    "colab_type": "text",
    "id": "_UcNF--wDm__"
   },
   "source": [
    "### Robustheit über lokalen Wertebereich (OWA-Datensatz)"
   ]
  },
  {
   "cell_type": "code",
   "execution_count": 10,
   "metadata": {
    "colab": {
     "base_uri": "https://localhost:8080/",
     "height": 282
    },
    "colab_type": "code",
    "id": "D1TCrUbxDIMv",
    "outputId": "92352c95-5722-4dcf-9a41-538b8a2f33dd"
   },
   "outputs": [
    {
     "data": {
      "image/png": "[encoded data removed]",
      "text/plain": [
       "<Figure size 360x288 with 1 Axes>"
      ]
     },
     "metadata": {
      "needs_background": "light"
     },
     "output_type": "display_data"
    }
   ],
   "source": [
    "res = pd.DataFrame()\n",
    "\n",
    "tmp = exp.runVariableConfiguration(owa, [\"hits\"], owa[\"anomalyClass\"].tolist(), KNN, { \"n_neighbors\": 75, \"method\": \"median\" }, \"n_neighbors\", 75-10, 75+10, 21, \"int\")[\"avg_precision\"]\n",
    "tmp.index = range(-10, 11)\n",
    "res[\"k-NN\"] = tmp\n",
    "tmp = exp.runVariableConfiguration(owa, [\"hits\"], owa[\"anomalyClass\"].tolist(), LOF, { \"n_neighbors\": 75 }, \"n_neighbors\", 75-10, 75+10, 21, \"int\")[\"avg_precision\"]\n",
    "tmp.index = range(-10, 11)\n",
    "res[\"LOF\"] = tmp\n",
    "tmp = exp.runVariableConfiguration(owa, [\"hits\", \"mean\"], owa[\"anomalyClass\"].tolist(), HBOS, { \"n_bins\": 142 }, \"n_bins\", 142-10, 142+10, 21, \"int\")[\"avg_precision\"]\n",
    "tmp.index = range(-10, 11)\n",
    "res[\"HBOS\"] = tmp\n",
    "\n",
    "ax = res.boxplot(column=[\"k-NN\", \"LOF\", \"HBOS\"], figsize=(5, 4))\n",
    "ax.set_xlabel(\"Algorithmen\", fontsize=12)\n",
    "ax.set_ylabel(\"Average Precision\", fontsize=12)\n",
    "ax.set_ylim(0.75, 1.0)\n",
    "ax.xaxis.tick_top()\n",
    "ax.spines['bottom'].set_visible(False)\n",
    "ax.tick_params(labeltop=False)\n",
    "plt.show()"
   ]
  },
  {
   "cell_type": "code",
   "execution_count": 11,
   "metadata": {
    "colab": {
     "base_uri": "https://localhost:8080/",
     "height": 547
    },
    "colab_type": "code",
    "id": "miNn4aiOpS39",
    "outputId": "96b9a8d4-8bab-4a2c-ca6b-3e05a6790273"
   },
   "outputs": [
    {
     "data": {
      "image/png": "[encoded data removed]",
      "text/plain": [
       "<Figure size 360x288 with 1 Axes>"
      ]
     },
     "metadata": {
      "needs_background": "light"
     },
     "output_type": "display_data"
    },
    {
     "data": {
      "image/png": "[encoded data removed]",
      "text/plain": [
       "<Figure size 360x288 with 1 Axes>"
      ]
     },
     "metadata": {
      "needs_background": "light"
     },
     "output_type": "display_data"
    }
   ],
   "source": [
    "res = pd.DataFrame()\n",
    "tmp = exp.runVariableConfiguration(syn1, [\"hits\"], syn1[\"anomalyClass\"].tolist(), LOF, { \"n_neighbors\": 75 }, \"n_neighbors\", 75-10, 75+10, 21, \"int\")[\"avg_precision\"]\n",
    "tmp.index = range(-10, 11)\n",
    "res[\"LOF\"] = tmp\n",
    "tmp = exp.runVariableConfiguration(syn1, [\"hits\", \"mean\"], syn1[\"anomalyClass\"].tolist(), HBOS, { \"n_bins\": 142 }, \"n_bins\", 142-10, 142+10, 21, \"int\")[\"avg_precision\"]\n",
    "tmp.index = range(-10, 11)\n",
    "res[\"HBOS\"] = tmp\n",
    "\n",
    "res2 = pd.DataFrame()\n",
    "tmp = exp.runVariableConfiguration(syn2, [\"hits\"], syn2[\"anomalyClass\"].tolist(), KNN, { \"n_neighbors\": 75, \"method\": \"median\" }, \"n_neighbors\", 75-10, 75+10, 21, \"int\")[\"avg_precision\"]\n",
    "tmp.index = range(-10, 11)\n",
    "res2[\"k-NN\"] = tmp\n",
    "tmp = exp.runVariableConfiguration(syn2, [\"hits\"], syn2[\"anomalyClass\"].tolist(), LOF, { \"n_neighbors\": 75 }, \"n_neighbors\", 75-10, 75+10, 21, \"int\")[\"avg_precision\"]\n",
    "tmp.index = range(-10, 11)\n",
    "res2[\"LOF\"] = tmp\n",
    "tmp = exp.runVariableConfiguration(syn2, [\"hits\", \"mean\"], syn2[\"anomalyClass\"].tolist(), HBOS, { \"n_bins\": 142 }, \"n_bins\", 142-10, 142+10, 21, \"int\")[\"avg_precision\"]\n",
    "tmp.index = range(-10, 11)\n",
    "res2[\"HBOS\"] = tmp\n",
    "\n",
    "ax = res.boxplot(column=[\"LOF\", \"HBOS\"], figsize=(5, 4))\n",
    "ax.set_xlabel(\"Algorithmen\", fontsize=12)\n",
    "ax.set_ylabel(\"Average Precision\", fontsize=12)\n",
    "ax.set_ylim(0.6, 1.0)\n",
    "ax.xaxis.tick_top()\n",
    "ax.spines['bottom'].set_visible(False)\n",
    "ax.tick_params(labeltop=False)\n",
    "plt.show()\n",
    "\n",
    "ax = res2.boxplot(column=[\"k-NN\", \"LOF\", \"HBOS\"], figsize=(5, 4))\n",
    "ax.set_xlabel(\"Algorithmen\", fontsize=12)\n",
    "ax.set_ylabel(\"Average Precision\", fontsize=12)\n",
    "ax.set_ylim(0.75, 1.0)\n",
    "ax.xaxis.tick_top()\n",
    "ax.spines['bottom'].set_visible(False)\n",
    "ax.tick_params(labeltop=False)\n",
    "plt.show()"
   ]
  },
  {
   "cell_type": "markdown",
   "metadata": {
    "colab_type": "text",
    "id": "BpkLT-SEEfSI"
   },
   "source": [
    "### Verteilung der Genauigkeit von LOF auf dem SYN-1-Datensatz"
   ]
  },
  {
   "cell_type": "code",
   "execution_count": 12,
   "metadata": {
    "colab": {
     "base_uri": "https://localhost:8080/",
     "height": 316
    },
    "colab_type": "code",
    "id": "0Ug_6rl_EVvM",
    "outputId": "12f4743b-cbda-4a91-82c8-7e45bd8d0aa7"
   },
   "outputs": [
    {
     "data": {
      "image/png": "[encoded data removed]",
      "text/plain": [
       "<Figure size 432x288 with 1 Axes>"
      ]
     },
     "metadata": {
      "needs_background": "light"
     },
     "output_type": "display_data"
    }
   ],
   "source": [
    "ax = res[\"LOF\"].plot.bar(figsize=(6,4), color=\"#1f77b4\")\n",
    "ax.set_title(\"Genauigkeit von LOF über relativem Wertebereich,\\nSYN-1-Datensatz\", fontsize=14)\n",
    "ax.set_xlabel(\"Relative Werte\", fontsize=12)\n",
    "ax.set_ylabel(\"Average Precision\", fontsize=12)\n",
    "ax.set_ylim(0.5, 1.0)\n",
    "ax.xaxis.tick_top()\n",
    "ax.spines['bottom'].set_visible(False)\n",
    "ax.tick_params(labeltop=False)\n",
    "plt.show()"
   ]
  }
 ],
 "metadata": {
  "colab": {
   "name": "SystemDesign.ipynb",
   "provenance": [],
   "toc_visible": true
  },
  "kernelspec": {
   "display_name": "Python 3",
   "language": "python",
   "name": "python3"
  },
  "language_info": {
   "codemirror_mode": {
    "name": "ipython",
    "version": 3
   },
   "file_extension": ".py",
   "mimetype": "text/x-python",
   "name": "python",
   "nbconvert_exporter": "python",
   "pygments_lexer": "ipython3",
   "version": "3.7.1"
  }
 },
 "nbformat": 4,
 "nbformat_minor": 1
}
